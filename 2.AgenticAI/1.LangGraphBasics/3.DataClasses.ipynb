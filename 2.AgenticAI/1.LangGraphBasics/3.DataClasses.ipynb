{
 "cells": [
  {
   "cell_type": "markdown",
   "metadata": {},
   "source": [
    "### State Schema with dataclasses\n",
    "\n",
    "When we define a LangGraph StateGraph, we use a state schema.\n",
    "\n",
    "The state schema represents the structure and types of data that our graph will use.\n",
    "\n",
    "All nodes are expected to communicate with that schema.\n",
    "\n",
    "LangGraph offers flexibility in how you define your state schema, accommdating various Python types and validation approaches\n"
   ]
  },
  {
   "cell_type": "code",
   "execution_count": 1,
   "metadata": {},
   "outputs": [],
   "source": [
    "from typing_extensions import TypedDict\n",
    "from typing import Literal\n",
    "\n",
    "class State(TypedDict):\n",
    "    name: str\n",
    "    game: Literal[\"cricket\", \"football\"]"
   ]
  },
  {
   "cell_type": "code",
   "execution_count": 8,
   "metadata": {},
   "outputs": [],
   "source": [
    "import random\n",
    "def play_game(state: State):\n",
    "    print(\"Play game node called\")\n",
    "    return {\"name\": state['name'] + ' want to play '}\n",
    "\n",
    "def play_cricket(state: State):\n",
    "    print(\"Play cricket node called\")\n",
    "    return {\"game\": \"cricket\"}\n",
    "\n",
    "def play_football(state: State):\n",
    "    print(\"Play football node called\")\n",
    "    return {\"game\": \"football\"}\n",
    "\n",
    "def decide_play(state: State) -> Literal[\"play_cricket\", \"play_football\"]:\n",
    "    if random.random() < 0.5:\n",
    "        return \"play_cricket\"\n",
    "    else:\n",
    "        return \"play_football\"\n"
   ]
  },
  {
   "cell_type": "code",
   "execution_count": 10,
   "metadata": {},
   "outputs": [
    {
     "ename": "TypeError",
     "evalue": "Expected a Runnable, callable or dict.Instead got an unsupported type: <class 'str'>",
     "output_type": "error",
     "traceback": [
      "\u001b[31m---------------------------------------------------------------------------\u001b[39m",
      "\u001b[31mTypeError\u001b[39m                                 Traceback (most recent call last)",
      "\u001b[36mCell\u001b[39m\u001b[36m \u001b[39m\u001b[32mIn[10]\u001b[39m\u001b[32m, line 11\u001b[39m\n\u001b[32m      8\u001b[39m graph.add_node(\u001b[33m\"\u001b[39m\u001b[33mfootball\u001b[39m\u001b[33m\"\u001b[39m, play_football)\n\u001b[32m     10\u001b[39m graph.add_edge(START, \u001b[33m\"\u001b[39m\u001b[33mplay_game\u001b[39m\u001b[33m\"\u001b[39m)\n\u001b[32m---> \u001b[39m\u001b[32m11\u001b[39m \u001b[43mgraph\u001b[49m\u001b[43m.\u001b[49m\u001b[43madd_conditional_edges\u001b[49m\u001b[43m(\u001b[49m\u001b[33;43m\"\u001b[39;49m\u001b[33;43mplay_game\u001b[39;49m\u001b[33;43m\"\u001b[39;49m\u001b[43m,\u001b[49m\u001b[43m \u001b[49m\u001b[33;43m\"\u001b[39;49m\u001b[33;43mdecide_play\u001b[39;49m\u001b[33;43m\"\u001b[39;49m\u001b[43m)\u001b[49m\n\u001b[32m     12\u001b[39m graph.add_edge(\u001b[33m\"\u001b[39m\u001b[33mplay_cricket\u001b[39m\u001b[33m\"\u001b[39m, END)\n\u001b[32m     13\u001b[39m graph.add_edge(\u001b[33m\"\u001b[39m\u001b[33mplay_football\u001b[39m\u001b[33m\"\u001b[39m, END)\n",
      "\u001b[36mFile \u001b[39m\u001b[32m~/work/side/ai/.venv/lib/python3.13/site-packages/langgraph/graph/state.py:522\u001b[39m, in \u001b[36mStateGraph.add_conditional_edges\u001b[39m\u001b[34m(self, source, path, path_map, then)\u001b[39m\n\u001b[32m    516\u001b[39m     logger.warning(\n\u001b[32m    517\u001b[39m         \u001b[33m\"\u001b[39m\u001b[33mAdding an edge to a graph that has already been compiled. This will \u001b[39m\u001b[33m\"\u001b[39m\n\u001b[32m    518\u001b[39m         \u001b[33m\"\u001b[39m\u001b[33mnot be reflected in the compiled graph.\u001b[39m\u001b[33m\"\u001b[39m\n\u001b[32m    519\u001b[39m     )\n\u001b[32m    521\u001b[39m \u001b[38;5;66;03m# find a name for the condition\u001b[39;00m\n\u001b[32m--> \u001b[39m\u001b[32m522\u001b[39m path = \u001b[43mcoerce_to_runnable\u001b[49m\u001b[43m(\u001b[49m\u001b[43mpath\u001b[49m\u001b[43m,\u001b[49m\u001b[43m \u001b[49m\u001b[43mname\u001b[49m\u001b[43m=\u001b[49m\u001b[38;5;28;43;01mNone\u001b[39;49;00m\u001b[43m,\u001b[49m\u001b[43m \u001b[49m\u001b[43mtrace\u001b[49m\u001b[43m=\u001b[49m\u001b[38;5;28;43;01mTrue\u001b[39;49;00m\u001b[43m)\u001b[49m\n\u001b[32m    523\u001b[39m name = path.name \u001b[38;5;129;01mor\u001b[39;00m \u001b[33m\"\u001b[39m\u001b[33mcondition\u001b[39m\u001b[33m\"\u001b[39m\n\u001b[32m    524\u001b[39m \u001b[38;5;66;03m# validate the condition\u001b[39;00m\n",
      "\u001b[36mFile \u001b[39m\u001b[32m~/work/side/ai/.venv/lib/python3.13/site-packages/langgraph/utils/runnable.py:496\u001b[39m, in \u001b[36mcoerce_to_runnable\u001b[39m\u001b[34m(thing, name, trace)\u001b[39m\n\u001b[32m    494\u001b[39m     \u001b[38;5;28;01mreturn\u001b[39;00m RunnableParallel(thing)\n\u001b[32m    495\u001b[39m \u001b[38;5;28;01melse\u001b[39;00m:\n\u001b[32m--> \u001b[39m\u001b[32m496\u001b[39m     \u001b[38;5;28;01mraise\u001b[39;00m \u001b[38;5;167;01mTypeError\u001b[39;00m(\n\u001b[32m    497\u001b[39m         \u001b[33mf\u001b[39m\u001b[33m\"\u001b[39m\u001b[33mExpected a Runnable, callable or dict.\u001b[39m\u001b[33m\"\u001b[39m\n\u001b[32m    498\u001b[39m         \u001b[33mf\u001b[39m\u001b[33m\"\u001b[39m\u001b[33mInstead got an unsupported type: \u001b[39m\u001b[38;5;132;01m{\u001b[39;00m\u001b[38;5;28mtype\u001b[39m(thing)\u001b[38;5;132;01m}\u001b[39;00m\u001b[33m\"\u001b[39m\n\u001b[32m    499\u001b[39m     )\n",
      "\u001b[31mTypeError\u001b[39m: Expected a Runnable, callable or dict.Instead got an unsupported type: <class 'str'>"
     ]
    }
   ],
   "source": [
    "import random\n",
    "from IPython.display import Image, display\n",
    "from langgraph.graph import StateGraph, START, END\n",
    "\n",
    "graph = StateGraph(State)\n",
    "graph.add_node(\"play_game\", play_game)\n",
    "graph.add_node(\"cricket\", play_cricket)\n",
    "graph.add_node(\"football\", play_football)\n",
    "\n",
    "graph.add_edge(START, \"play_game\")\n",
    "graph.add_conditional_edges(\"play_game\", decide_play)\n",
    "graph.add_edge(\"play_cricket\", END)\n",
    "graph.add_edge(\"play_football\", END)\n"
   ]
  },
  {
   "cell_type": "code",
   "execution_count": null,
   "metadata": {},
   "outputs": [],
   "source": []
  }
 ],
 "metadata": {
  "kernelspec": {
   "display_name": ".venv",
   "language": "python",
   "name": "python3"
  },
  "language_info": {
   "codemirror_mode": {
    "name": "ipython",
    "version": 3
   },
   "file_extension": ".py",
   "mimetype": "text/x-python",
   "name": "python",
   "nbconvert_exporter": "python",
   "pygments_lexer": "ipython3",
   "version": "3.13.3"
  }
 },
 "nbformat": 4,
 "nbformat_minor": 2
}
