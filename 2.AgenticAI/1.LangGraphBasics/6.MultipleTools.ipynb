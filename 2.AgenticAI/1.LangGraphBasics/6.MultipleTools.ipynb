{
 "cells": [
  {
   "cell_type": "markdown",
   "metadata": {},
   "source": [
    "### Building chatbot with multiple tools using LangGraph\n",
    "\n",
    "Aim: \n",
    "- Create a chatbot with tool capabilities from Arxiv, Wikipedia search and some functions"
   ]
  },
  {
   "cell_type": "code",
   "execution_count": 2,
   "metadata": {},
   "outputs": [],
   "source": [
    "from langchain_community.tools import ArxivQueryRun, WikipediaQueryRun\n",
    "from langchain_community.utilities import WikipediaAPIWrapper, ArxivAPIWrapper"
   ]
  },
  {
   "cell_type": "code",
   "execution_count": 3,
   "metadata": {},
   "outputs": [
    {
     "data": {
      "text/plain": [
       "'Published: 2025-02-07\\nTitle: What is Ethical: AIHED Driving Humans or Human-Driven AIHED? A Conceptual Framework enabling the Ethos of AI-driven Higher education\\nAuthors: Prashant Mahajan\\nSummary: The rapid integration of Artificial Intelligence (AI) in Higher Education\\n(HE) is transforming personalized learning, administrative automation, and\\ndecision-making. However, this progress presents a duality, as AI adoption also\\nintroduces ethical and institutional challenges, including algorithmic bias,\\ndata privacy risks, and governance inconsistencies. To address these concerns,\\nthis study introduces the Human-Driven AI in Higher Education (HD-AIHED)\\nFramework, ensuring compliance with UNESCO and OECD ethical standards. This\\nconceptual research employs a qualitative meta-synthesis approach, integrating\\nqualitative and quantitative studies to identify patterns, contradictions, and\\ngaps in AI adoption within HE. It reinterprets existing datasets through\\ntheoretical and ethical lenses to deve'"
      ]
     },
     "execution_count": 3,
     "metadata": {},
     "output_type": "execute_result"
    }
   ],
   "source": [
    "api_wrapper_arxiv = ArxivAPIWrapper(top_k_results=2, doc_content_chars_max = 1000)\n",
    "\n",
    "arxiv_tool = ArxivQueryRun(api_wrapper=api_wrapper_arxiv)\n",
    "\n",
    "arxiv_tool.run(\"What is the latest research on AI?\")"
   ]
  },
  {
   "cell_type": "code",
   "execution_count": 4,
   "metadata": {},
   "outputs": [
    {
     "data": {
      "text/plain": [
       "\"Published: 2024-07-22\\nTitle: Attention Is All You Need But You Don't Need All Of It For Inference of Large Language Models\\nAuthors: Georgy Tyukin, Gbetondji J-S Dovonon, Jean Kaddour, Pasquale Minervini\\nSummary: The inference demand for LLMs has skyrocketed in recent months, and serving\\nmodels with low latencies remains challenging due to the quadratic input length\\ncomplexity of the attention layers. In this work, we investigate the effect of\\ndropping MLP and attention layers at inference time on the performance of\\nLlama-v2 models. We find that dropping dreeper attention layers only marginally\\ndecreases performance but leads to the best speedups alongside dropping entire\\nlayers. For example, removing 33\\\\% of attention layers in a 13B Llama2 model\\nresults in a 1.8\\\\% drop in average performance over the OpenLLM benchmark. We\\nalso observe that skipping layers except the latter layers reduces performances\\nfor more layers skipped, except for skipping the attention layers.\\n\\nPublished: 2021-0\""
      ]
     },
     "execution_count": 4,
     "metadata": {},
     "output_type": "execute_result"
    }
   ],
   "source": [
    "arxiv_tool.invoke(\"Attention is all you need\")"
   ]
  },
  {
   "cell_type": "code",
   "execution_count": 5,
   "metadata": {},
   "outputs": [
    {
     "data": {
      "text/plain": [
       "'Page: Artificial intelligence\\nSummary: Artificial intelligence (AI) is the capability of computational systems to perform tasks typically associated with human intelligence, such as learning, reasoning, problem-solving, perception, and decision-making. It is a field of research in computer science that develops and studies methods and software that enable machines to perceive their environment and use learning and intelligence to take actions that maximize their chances of achieving defined goals.\\nHigh-profile applications of AI include advanced web search engines (e.g., Google Search); recommendation systems (used by YouTube, Amazon, and Netflix); virtual assistants (e.g., Google Assistant, Siri, and Alexa); autonomous vehicles (e.g., Waymo); generative and creative tools (e.g., language models and AI art); and superhuman play and analysis in strategy games (e.g., chess and Go). However, many AI applications are not perceived as AI: \"A lot of cutting edge AI has filtered into general '"
      ]
     },
     "execution_count": 5,
     "metadata": {},
     "output_type": "execute_result"
    }
   ],
   "source": [
    "api_wrapper_wiki = WikipediaAPIWrapper(top_k_results=2, doc_content_chars_max = 1000)\n",
    "\n",
    "wiki_tool = WikipediaQueryRun(api_wrapper=api_wrapper_wiki)\n",
    "\n",
    "wiki_tool.invoke(\"What is the latest research on AI?\")"
   ]
  },
  {
   "cell_type": "code",
   "execution_count": 6,
   "metadata": {},
   "outputs": [],
   "source": [
    "from dotenv import load_dotenv\n",
    "import os\n",
    "\n",
    "load_dotenv()\n",
    "os.environ[\"TAVILY_API_KEY\"] = os.getenv(\"TAVILY_API_KEY\")\n",
    "os.environ[\"OPENAI_API_KEY\"] = os.getenv(\"OPENAI_API_KEY\")"
   ]
  },
  {
   "cell_type": "code",
   "execution_count": 7,
   "metadata": {},
   "outputs": [
    {
     "name": "stderr",
     "output_type": "stream",
     "text": [
      "/var/folders/d_/nlpw_2qx69j3vzw0s5vj48p80000gn/T/ipykernel_27379/2601453269.py:2: LangChainDeprecationWarning: The class `TavilySearchResults` was deprecated in LangChain 0.3.25 and will be removed in 1.0. An updated version of the class exists in the :class:`~langchain-tavily package and should be used instead. To use it run `pip install -U :class:`~langchain-tavily` and import as `from :class:`~langchain_tavily import TavilySearch``.\n",
      "  tavily_tool = TavilySearchResults()\n"
     ]
    },
    {
     "data": {
      "text/plain": [
       "[{'title': 'The latest AI news we announced in May - Google Blog',\n",
       "  'url': 'https://blog.google/technology/ai/google-ai-updates-may-2025/',\n",
       "  'content': \"Here are Google's latest AI updates from May 2025. ... The time to bridge the divide between AI research and real-world benefits is here.\",\n",
       "  'score': 0.5614318},\n",
       " {'title': 'The State of AI: Global survey | McKinsey',\n",
       "  'url': 'https://www.mckinsey.com/capabilities/quantumblack/our-insights/the-state-of-ai',\n",
       "  'content': 'In this latest version of the annual McKinsey Global Survey on AI, we look at the current trends that are driving real value from artificial intelligence.',\n",
       "  'score': 0.52524763},\n",
       " {'title': 'The Top Artificial Intelligence Trends | IBM',\n",
       "  'url': 'https://www.ibm.com/think/insights/artificial-intelligence-trends',\n",
       "  'content': 'The future is always hard to predict. The breakneck pace of improvement in prior generations of AI models had many expecting the generation of models to be released in 2025 to make meaningful steps toward artificial general intelligence (AGI). While the latest models from OpenAI, Meta and the other most-funded players in the AI space are no doubt impressive, they’re certainly short of revolutionary. [...] Another stream of research is focusing on “world models” that aim to model real-world interactions directly and holistically, rather than indirectly and discretely through the mediums of language, image and video data. World Labs, a startup headed by Stanford’s Fei-Fei Li—famed for, among other things, the ImageNet dataset that helped pave a path for modern computer vision—raised USD 230 million at the end of last year. [...] 1. \"GPT-4 architecture, datasets, costs and more leaked,\" The Decoder, 11 July 2023  \\n2. IBM Granite 3.3 2B model card, Hugging Face, 16 April 2025  \\n3. \"Bringing reasoning to Granite,\" IBM, 7 February 2025  \\n4. \"Claude 3.7 Sonnet and Claude Code,\" Anthropic, 24 February 2025  \\n5. \"Gemini Thinking,\" Google  \\n6. \"Adaptive Mixtures of Local Experts,\" Neural Computation, 1 March 1991  \\n7. \"Turing Award 2018: Novel Prize of computing given to \\'godfathers of AI\\',\" The Verge, 27 March 2019',\n",
       "  'score': 0.5177909},\n",
       " {'title': \"What's next for AI in 2025 - MIT Technology Review\",\n",
       "  'url': 'https://www.technologyreview.com/2025/01/08/1109188/whats-next-for-ai-in-2025/',\n",
       "  'content': 'AI model makers are also keen to pitch their generative products as research tools for scientists. OpenAI let scientists test its latest o1 model and see how it might support them in research. The results were encouraging. [...] We got a tiny glimpse of this technology in February, when Google DeepMind revealed a generative model called Genie that could take a still image and turn it into a side-scrolling 2D platform game that players could interact with. In December, the firm revealed Genie 2, a model that can spin a starter image into an entire virtual world. [...] Google DeepMind is also building an experimental version of Gemini 2.0, its latest large language model, that uses this step-by-step approach to problem solving, called Gemini 2.0 Flash Thinking.\\n\\nBut OpenAI and Google are just the tip of the iceberg. Many companies are building large language models that use similar techniques, making them better at a whole range of tasks, from cooking to coding. Expect a lot more buzz about reasoning (we know, we know) this year.\\n\\n—Will Douglas Heaven',\n",
       "  'score': 0.4921643},\n",
       " {'title': 'AI Index: State of AI in 13 Charts - Stanford HAI',\n",
       "  'url': 'https://hai.stanford.edu/news/ai-index-state-ai-13-charts',\n",
       "  'content': 'The AI Index was first created to track AI development. The index collaborates with such organizations as LinkedIn, Quid, McKinsey, Studyportals, the Schwartz Reisman Institute, and the International Federation of Robotics to gather the most current research and feature important insights on the AI ecosystem.',\n",
       "  'score': 0.49113917}]"
      ]
     },
     "execution_count": 7,
     "metadata": {},
     "output_type": "execute_result"
    }
   ],
   "source": [
    "from langchain_community.tools import TavilySearchResults\n",
    "tavily_tool = TavilySearchResults()\n",
    "\n",
    "tavily_tool.invoke(\"What is the latest research on AI?\")"
   ]
  },
  {
   "cell_type": "code",
   "execution_count": 8,
   "metadata": {},
   "outputs": [],
   "source": [
    "### combine all the tools in a list\n",
    "\n",
    "from langchain_openai import ChatOpenAI\n",
    "from pprint import pprint\n",
    "from langchain_core.messages import HumanMessage, AIMessage\n",
    "\n",
    "tools = [\n",
    "    arxiv_tool, wiki_tool, tavily_tool\n",
    "]\n",
    "llm = ChatOpenAI(model=\"gpt-3.5-turbo\", temperature=0)\n",
    "llm_with_tools = llm.bind_tools(tools)\n"
   ]
  },
  {
   "cell_type": "code",
   "execution_count": 17,
   "metadata": {},
   "outputs": [
    {
     "data": {
      "text/plain": [
       "AIMessage(content='', additional_kwargs={'tool_calls': [{'id': 'call_S1RwPbpXmSmc6ITfNJlxKQzh', 'function': {'arguments': '{\"query\":\"recent AI news\"}', 'name': 'tavily_search_results_json'}, 'type': 'function'}], 'refusal': None}, response_metadata={'token_usage': {'completion_tokens': 20, 'prompt_tokens': 222, 'total_tokens': 242, 'completion_tokens_details': {'accepted_prediction_tokens': 0, 'audio_tokens': 0, 'reasoning_tokens': 0, 'rejected_prediction_tokens': 0}, 'prompt_tokens_details': {'audio_tokens': 0, 'cached_tokens': 0}}, 'model_name': 'gpt-3.5-turbo-0125', 'system_fingerprint': None, 'id': 'chatcmpl-BmwfilnVqIAXQZBsPWkDfNjkEywOC', 'service_tier': 'default', 'finish_reason': 'tool_calls', 'logprobs': None}, id='run--1893a73d-e4eb-4856-87f4-2ad858587be6-0', tool_calls=[{'name': 'tavily_search_results_json', 'args': {'query': 'recent AI news'}, 'id': 'call_S1RwPbpXmSmc6ITfNJlxKQzh', 'type': 'tool_call'}], usage_metadata={'input_tokens': 222, 'output_tokens': 20, 'total_tokens': 242, 'input_token_details': {'audio': 0, 'cache_read': 0}, 'output_token_details': {'audio': 0, 'reasoning': 0}})"
      ]
     },
     "execution_count": 17,
     "metadata": {},
     "output_type": "execute_result"
    }
   ],
   "source": [
    "llm_with_tools.invoke([HumanMessage(content=f\"What is the recent AI news\")])"
   ]
  },
  {
   "cell_type": "code",
   "execution_count": 18,
   "metadata": {},
   "outputs": [
    {
     "data": {
      "text/plain": [
       "AIMessage(content=\"One recent AI news is that researchers have developed a new AI system that can predict the risk of developing cardiovascular disease by analyzing a person's voice. The system uses machine learning algorithms to analyze vocal biomarkers and predict the likelihood of heart disease with high accuracy. This technology could potentially revolutionize the way cardiovascular disease is diagnosed and managed in the future.\", additional_kwargs={'refusal': None}, response_metadata={'token_usage': {'completion_tokens': 69, 'prompt_tokens': 13, 'total_tokens': 82, 'completion_tokens_details': {'accepted_prediction_tokens': 0, 'audio_tokens': 0, 'reasoning_tokens': 0, 'rejected_prediction_tokens': 0}, 'prompt_tokens_details': {'audio_tokens': 0, 'cached_tokens': 0}}, 'model_name': 'gpt-3.5-turbo-0125', 'system_fingerprint': None, 'id': 'chatcmpl-BmwgemcPsfQ9ltT9PsD45hMoj8sNj', 'service_tier': 'default', 'finish_reason': 'stop', 'logprobs': None}, id='run--2da406f9-3adf-4767-ab46-0264a216126e-0', usage_metadata={'input_tokens': 13, 'output_tokens': 69, 'total_tokens': 82, 'input_token_details': {'audio': 0, 'cache_read': 0}, 'output_token_details': {'audio': 0, 'reasoning': 0}})"
      ]
     },
     "execution_count": 18,
     "metadata": {},
     "output_type": "execute_result"
    }
   ],
   "source": [
    "llm.invoke([HumanMessage(content=f\"What is the recent AI news\")])"
   ]
  },
  {
   "cell_type": "code",
   "execution_count": 9,
   "metadata": {},
   "outputs": [],
   "source": [
    "from typing import TypedDict\n",
    "from langgraph.graph.message import add_messages\n",
    "from typing import Annotated\n",
    "\n",
    "class State(TypedDict):\n",
    "    messages: Annotated[list[dict], add_messages]"
   ]
  },
  {
   "cell_type": "code",
   "execution_count": 10,
   "metadata": {},
   "outputs": [
    {
     "data": {
      "image/png": "[encoded data removed]",
      "text/plain": [
       "<IPython.core.display.Image object>"
      ]
     },
     "metadata": {},
     "output_type": "display_data"
    }
   ],
   "source": [
    "from IPython.display import Image, display\n",
    "from langgraph.graph import StateGraph, START, END\n",
    "from langgraph.prebuilt import ToolNode, tools_condition\n",
    "\n",
    "\n",
    "def tool_calling_llm(state: State):\n",
    "    return {\"messages\": [llm_with_tools.invoke(state[\"messages\"])]}\n",
    "\n",
    "graph = StateGraph(State)\n",
    "\n",
    "graph.add_node(\"tool_calling_llm\", tool_calling_llm)\n",
    "graph.add_node(\"tools\", ToolNode(tools))\n",
    "\n",
    "graph.add_edge(START, \"tool_calling_llm\")\n",
    "graph.add_conditional_edges(\"tool_calling_llm\", tools_condition)\n",
    "graph.add_edge(\"tools\", END)\n",
    "\n",
    "graph_builder = graph.compile()\n",
    "\n",
    "display(Image(graph_builder.get_graph().draw_mermaid_png()))"
   ]
  },
  {
   "cell_type": "code",
   "execution_count": 24,
   "metadata": {},
   "outputs": [
    {
     "name": "stdout",
     "output_type": "stream",
     "text": [
      "================================\u001b[1m Human Message \u001b[0m=================================\n",
      "\n",
      "What is attention is all you need?\n",
      "==================================\u001b[1m Ai Message \u001b[0m==================================\n",
      "Tool Calls:\n",
      "  wikipedia (call_vAIOJ6wtBWRXG7xXaq1uvNJ1)\n",
      " Call ID: call_vAIOJ6wtBWRXG7xXaq1uvNJ1\n",
      "  Args:\n",
      "    query: Attention Is All You Need\n",
      "=================================\u001b[1m Tool Message \u001b[0m=================================\n",
      "Name: wikipedia\n",
      "\n",
      "Page: Attention Is All You Need\n",
      "Summary: \"Attention Is All You Need\" is a 2017 landmark research paper in machine learning authored by eight scientists working at Google. The paper introduced a new deep learning architecture known as the transformer, based on the attention mechanism proposed in 2014 by Bahdanau et al. It is considered a foundational paper in modern artificial intelligence, and a main contributor to the AI boom, as the transformer approach has become the main architecture of a wide variety of AI, such as large language models. At the time, the focus of the research was on improving Seq2seq techniques for machine translation, but the authors go further in the paper, foreseeing the technique's potential for other tasks like question answering and what is now known as multimodal generative AI.\n",
      "The paper's title is a reference to the song \"All You Need Is Love\" by the Beatles. The name \"Transformer\" was picked because Jakob Uszkoreit, one of the paper's authors, liked the s\n"
     ]
    }
   ],
   "source": [
    "messages = graph_builder.invoke({\"messages\": HumanMessage(content=\"What is attention is all you need?\")})\n",
    "for message in messages[\"messages\"]:\n",
    "    message.pretty_print()"
   ]
  },
  {
   "cell_type": "code",
   "execution_count": 26,
   "metadata": {},
   "outputs": [
    {
     "name": "stdout",
     "output_type": "stream",
     "text": [
      "================================\u001b[1m Human Message \u001b[0m=================================\n",
      "\n",
      "1706.03762\n",
      "==================================\u001b[1m Ai Message \u001b[0m==================================\n",
      "Tool Calls:\n",
      "  arxiv (call_spTkYjfjSLdInuB010fSRtJi)\n",
      " Call ID: call_spTkYjfjSLdInuB010fSRtJi\n",
      "  Args:\n",
      "    query: 1706.03762\n",
      "=================================\u001b[1m Tool Message \u001b[0m=================================\n",
      "Name: arxiv\n",
      "\n",
      "Published: 2023-08-02\n",
      "Title: Attention Is All You Need\n",
      "Authors: Ashish Vaswani, Noam Shazeer, Niki Parmar, Jakob Uszkoreit, Llion Jones, Aidan N. Gomez, Lukasz Kaiser, Illia Polosukhin\n",
      "Summary: The dominant sequence transduction models are based on complex recurrent or\n",
      "convolutional neural networks in an encoder-decoder configuration. The best\n",
      "performing models also connect the encoder and decoder through an attention\n",
      "mechanism. We propose a new simple network architecture, the Transformer, based\n",
      "solely on attention mechanisms, dispensing with recurrence and convolutions\n",
      "entirely. Experiments on two machine translation tasks show these models to be\n",
      "superior in quality while being more parallelizable and requiring significantly\n",
      "less time to train. Our model achieves 28.4 BLEU on the WMT 2014\n",
      "English-to-German translation task, improving over the existing best results,\n",
      "including ensembles by over 2 BLEU. On the WMT 2014 English-to-French\n",
      "translation task, our model establishes a new sing\n"
     ]
    }
   ],
   "source": [
    "messages = graph_builder.invoke({\"messages\": HumanMessage(content=\"1706.03762\")})\n",
    "for message in messages[\"messages\"]:\n",
    "    message.pretty_print()"
   ]
  },
  {
   "cell_type": "code",
   "execution_count": null,
   "metadata": {},
   "outputs": [],
   "source": []
  }
 ],
 "metadata": {
  "kernelspec": {
   "display_name": "venv",
   "language": "python",
   "name": "python3"
  },
  "language_info": {
   "codemirror_mode": {
    "name": "ipython",
    "version": 3
   },
   "file_extension": ".py",
   "mimetype": "text/x-python",
   "name": "python",
   "nbconvert_exporter": "python",
   "pygments_lexer": "ipython3",
   "version": "3.13.3"
  }
 },
 "nbformat": 4,
 "nbformat_minor": 2
}
