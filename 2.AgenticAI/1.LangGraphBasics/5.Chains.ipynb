{
 "cells": [
  {
   "cell_type": "markdown",
   "metadata": {},
   "source": [
    "### Chain using LangGraph\n",
    "\n",
    "In this section, we will see how we can build a simple chain using Langgraph that uses 4 important concepts\n",
    "\n",
    "- How to use chat messages as our graph state\n",
    "- How to use chat models in graph nodes\n",
    "- How to bind tools to our LLM in chat models\n",
    "- How to execute the tools call in our graph nodes"
   ]
  },
  {
   "cell_type": "code",
   "execution_count": 2,
   "metadata": {},
   "outputs": [],
   "source": [
    "from dotenv import load_dotenv\n",
    "load_dotenv()\n",
    "\n",
    "import os\n",
    "os.environ[\"OPENAI_API_KEY\"] = os.getenv(\"OPENAI_API_KEY\")"
   ]
  },
  {
   "cell_type": "markdown",
   "metadata": {},
   "source": [
    "### How to use chat messages as our graph state\n",
    "\n",
    "#### Messages\n",
    "\n",
    "We can use messages which can be used to capture different roles within a conversation. LangChain has various message types including HumanMessage, AIMessage, SystemMessage and ToolMessage. These represent a message from the user, from chat model, for the chat model to instruct behavior, and from a tool call.\n",
    "\n",
    "Every message have these important components.\n",
    "- Content - content of the message\n",
    "- Name - specify the name of author\n",
    "- Response metadata - optionally, a dict of metadata (eg., often populated by model provider for AIMessages)\n",
    "\n"
   ]
  },
  {
   "cell_type": "code",
   "execution_count": 9,
   "metadata": {},
   "outputs": [
    {
     "name": "stdout",
     "output_type": "stream",
     "text": [
      "================================\u001b[1m Human Message \u001b[0m=================================\n",
      "Name: satya\n",
      "\n",
      "Hey, I'm Satya. I like cricket.\n",
      "==================================\u001b[1m Ai Message \u001b[0m==================================\n",
      "Name: LLMmodel\n",
      "\n",
      "Hello, Satya. I like cricket too.\n",
      "================================\u001b[1m Human Message \u001b[0m=================================\n",
      "Name: satya\n",
      "\n",
      "What other sports do you like?\n",
      "==================================\u001b[1m Ai Message \u001b[0m==================================\n",
      "Name: LLMmodel\n",
      "\n",
      "I like football and basketball.\n",
      "================================\u001b[1m Human Message \u001b[0m=================================\n",
      "Name: satya\n",
      "\n",
      "And what else?\n"
     ]
    }
   ],
   "source": [
    "from langchain_core.messages import HumanMessage, AIMessage, SystemMessage, ToolMessage\n",
    "from pprint import pprint\n",
    "\n",
    "messages = [\n",
    "    HumanMessage(content=\"Hey, I'm Satya. I like cricket.\", name=\"satya\"),\n",
    "    AIMessage(content=\"Hello, Satya. I like cricket too.\", name = \"LLMmodel\"),\n",
    "    HumanMessage(content=\"What other sports do you like?\", name=\"satya\"),\n",
    "    AIMessage(content=\"I like football and basketball.\", name = \"LLMmodel\"),\n",
    "    HumanMessage(content=\"And what else?\", name=\"satya\"), \n",
    "]\n",
    "\n",
    "for message in messages:\n",
    "    message.pretty_print()"
   ]
  },
  {
   "cell_type": "markdown",
   "metadata": {},
   "source": [
    "#### Chat models\n",
    "\n",
    "We can use the sequence of message as input with the chatmodels using LLM's and OPENAI.\n"
   ]
  },
  {
   "cell_type": "code",
   "execution_count": 10,
   "metadata": {},
   "outputs": [
    {
     "data": {
      "text/plain": [
       "AIMessage(content='I also enjoy tennis and swimming. How about you? What other sports do you like?', additional_kwargs={'refusal': None}, response_metadata={'token_usage': {'completion_tokens': 18, 'prompt_tokens': 78, 'total_tokens': 96, 'completion_tokens_details': {'accepted_prediction_tokens': 0, 'audio_tokens': 0, 'reasoning_tokens': 0, 'rejected_prediction_tokens': 0}, 'prompt_tokens_details': {'audio_tokens': 0, 'cached_tokens': 0}}, 'model_name': 'gpt-3.5-turbo-0125', 'system_fingerprint': None, 'id': 'chatcmpl-BmDEu5FTeTGbmpDNEDjLci58RQoj6', 'service_tier': 'default', 'finish_reason': 'stop', 'logprobs': None}, id='run--27f79182-0ac9-4ae9-a20b-561d59a5eb2b-0', usage_metadata={'input_tokens': 78, 'output_tokens': 18, 'total_tokens': 96, 'input_token_details': {'audio': 0, 'cache_read': 0}, 'output_token_details': {'audio': 0, 'reasoning': 0}})"
      ]
     },
     "execution_count": 10,
     "metadata": {},
     "output_type": "execute_result"
    }
   ],
   "source": [
    "from langchain_openai import ChatOpenAI\n",
    "llm = ChatOpenAI(model=\"gpt-3.5-turbo\", temperature=0)\n",
    "llm.invoke(messages)\n"
   ]
  },
  {
   "cell_type": "markdown",
   "metadata": {},
   "source": [
    "#### Tools\n",
    "\n",
    "Tols can be integrated with the LLM models to interact with external systems. External systems can be APIs and third party tools. \n",
    "\n",
    "Whenever a query is asked the model can choose to call the tool and this query is based on the natural language input and this will return an output that matches the tool's schema\n"
   ]
  },
  {
   "cell_type": "code",
   "execution_count": 12,
   "metadata": {},
   "outputs": [],
   "source": [
    "def add(a: int, b: int):\n",
    "    \"\"\" Add a and b\n",
    "    Args:\n",
    "        a: int\n",
    "        b: int\n",
    "    Returns:\n",
    "        int\n",
    "    \"\"\"\n",
    "    return a + b"
   ]
  },
  {
   "cell_type": "code",
   "execution_count": 14,
   "metadata": {},
   "outputs": [
    {
     "name": "stdout",
     "output_type": "stream",
     "text": [
      "==================================\u001b[1m Ai Message \u001b[0m==================================\n",
      "Tool Calls:\n",
      "  add (call_QDFQ6A1illdIkcebRdhUB0KQ)\n",
      " Call ID: call_QDFQ6A1illdIkcebRdhUB0KQ\n",
      "  Args:\n",
      "    a: 10\n",
      "    b: 20\n"
     ]
    }
   ],
   "source": [
    "#### Binding tool with llm\n",
    "\n",
    "llm_with_tools = llm.bind_tools([add])\n",
    "\n",
    "tool_call = llm_with_tools.invoke([HumanMessage(content=\"What is 10 + 20?\", name = \"satya\")])\n",
    "\n",
    "tool_call.pretty_print()"
   ]
  },
  {
   "cell_type": "code",
   "execution_count": 16,
   "metadata": {},
   "outputs": [
    {
     "data": {
      "text/plain": [
       "[{'name': 'add',\n",
       "  'args': {'a': 10, 'b': 20},\n",
       "  'id': 'call_QDFQ6A1illdIkcebRdhUB0KQ',\n",
       "  'type': 'tool_call'}]"
      ]
     },
     "execution_count": 16,
     "metadata": {},
     "output_type": "execute_result"
    }
   ],
   "source": [
    "tool_call.tool_calls"
   ]
  },
  {
   "cell_type": "code",
   "execution_count": 26,
   "metadata": {},
   "outputs": [],
   "source": [
    "### Using messages as state\n",
    "\n",
    "from typing_extensions import TypedDict\n",
    "from langchain_core.messages import AnyMessage\n",
    "from langgraph.graph.message import add_messages\n",
    "from typing import Annotated\n",
    "\n",
    "\n",
    "class State(TypedDict):\n",
    "    messages: Annotated[list[AnyMessage], add_messages]\n",
    "    name: str\n"
   ]
  },
  {
   "cell_type": "code",
   "execution_count": 18,
   "metadata": {},
   "outputs": [
    {
     "data": {
      "text/plain": [
       "[HumanMessage(content='Hi, I want to learn coding', additional_kwargs={}, response_metadata={}, name='satya', id='cdaf47e8-1615-49fe-8d40-33f7e6ad8d85'),\n",
       " AIMessage(content='Which language do you want to learn?', additional_kwargs={}, response_metadata={}, name='LLMmodel', id='10bc4afa-58c7-4055-8adc-17c7af211786'),\n",
       " HumanMessage(content='I want to learn Python', additional_kwargs={}, response_metadata={}, name='satya', id='09428c63-2209-412c-8ce0-56038d88f575')]"
      ]
     },
     "execution_count": 18,
     "metadata": {},
     "output_type": "execute_result"
    }
   ],
   "source": [
    "### Reducers with add_messages\n",
    "\n",
    "initial_message = [\n",
    "    HumanMessage(content=\"Hi, I want to learn coding\", name=\"satya\"),\n",
    "    AIMessage(content=\"Which language do you want to learn?\", name=\"LLMmodel\"),\n",
    "]\n",
    "\n",
    "human_message = HumanMessage(content=\"I want to learn Python\", name=\"satya\")\n",
    "add_messages(initial_message, human_message)"
   ]
  },
  {
   "cell_type": "code",
   "execution_count": 27,
   "metadata": {},
   "outputs": [],
   "source": [
    "### chatboth node functionality\n",
    "def llm_tool(state: State):\n",
    "    return {\n",
    "        \"messages\": [\n",
    "            llm_with_tools.invoke(state[\"messages\"])\n",
    "        ]\n",
    "    }"
   ]
  },
  {
   "cell_type": "code",
   "execution_count": 28,
   "metadata": {},
   "outputs": [
    {
     "data": {
      "image/png": "[encoded data removed]",
      "text/plain": [
       "<IPython.core.display.Image object>"
      ]
     },
     "metadata": {},
     "output_type": "display_data"
    }
   ],
   "source": [
    "from IPython.display import Image, display\n",
    "from langgraph.graph import StateGraph, START, END\n",
    "\n",
    "graph = StateGraph(State)\n",
    "graph.add_node(\"llm_tool\", llm_tool)\n",
    "graph.add_edge(START, \"llm_tool\")\n",
    "graph.add_edge(\"llm_tool\", END)\n",
    "\n",
    "graph_builder = graph.compile()\n",
    "display(Image(graph_builder.get_graph().draw_mermaid_png()))"
   ]
  },
  {
   "cell_type": "code",
   "execution_count": 29,
   "metadata": {},
   "outputs": [
    {
     "data": {
      "image/png": "[encoded data removed]",
      "text/plain": [
       "<IPython.core.display.Image object>"
      ]
     },
     "metadata": {},
     "output_type": "display_data"
    }
   ],
   "source": [
    "from langgraph.prebuilt import ToolNode\n",
    "from langgraph.prebuilt import tools_condition\n",
    "\n",
    "tools = [add]\n",
    "\n",
    "graph = StateGraph(State)\n",
    "graph.add_node(\"llm_tool\", llm_tool)\n",
    "graph.add_node(\"tools\", ToolNode(tools))\n",
    "\n",
    "graph.add_edge(START, \"llm_tool\")\n",
    "graph.add_conditional_edges(\n",
    "    \"llm_tool\", \n",
    "    # If the latest message (result) from assistant is a tool call -> tools_condition routes to tools\n",
    "    # If the latest message (result) from assistant is not a tool call -> tools_condition routes to END\n",
    "    tools_condition\n",
    ")\n",
    "\n",
    "graph.add_edge(\"llm_tool\", END)\n",
    "graph.add_edge(\"tools\", END)\n",
    "\n",
    "graph_builder = graph.compile()\n",
    "display(Image(graph_builder.get_graph().draw_mermaid_png()))"
   ]
  },
  {
   "cell_type": "markdown",
   "metadata": {},
   "source": []
  },
  {
   "cell_type": "code",
   "execution_count": 31,
   "metadata": {},
   "outputs": [
    {
     "name": "stdout",
     "output_type": "stream",
     "text": [
      "================================\u001b[1m Human Message \u001b[0m=================================\n",
      "\n",
      "What is 10 + 20?\n",
      "==================================\u001b[1m Ai Message \u001b[0m==================================\n",
      "Tool Calls:\n",
      "  add (call_IJS0uZoDxE5nLvisSjXg8uJ9)\n",
      " Call ID: call_IJS0uZoDxE5nLvisSjXg8uJ9\n",
      "  Args:\n",
      "    a: 10\n",
      "    b: 20\n",
      "=================================\u001b[1m Tool Message \u001b[0m=================================\n",
      "Name: add\n",
      "\n",
      "30\n"
     ]
    }
   ],
   "source": [
    "output_messages = graph_builder.invoke({\"messages\": \"What is 10 + 20?\"})\n",
    "\n",
    "for message in output_messages[\"messages\"]:\n",
    "    message.pretty_print()"
   ]
  },
  {
   "cell_type": "markdown",
   "metadata": {},
   "source": [
    "### Router\n",
    "\n",
    "A chat model routes between a direct response or a tool call based upon the user input. \n",
    "\n",
    "This is a simple example of an agent, where the LLM is directing the control flow either by calling a tool or just responding directly."
   ]
  },
  {
   "cell_type": "markdown",
   "metadata": {},
   "source": []
  },
  {
   "cell_type": "markdown",
   "metadata": {},
   "source": []
  }
 ],
 "metadata": {
  "kernelspec": {
   "display_name": ".venv",
   "language": "python",
   "name": "python3"
  },
  "language_info": {
   "codemirror_mode": {
    "name": "ipython",
    "version": 3
   },
   "file_extension": ".py",
   "mimetype": "text/x-python",
   "name": "python",
   "nbconvert_exporter": "python",
   "pygments_lexer": "ipython3",
   "version": "3.13.3"
  }
 },
 "nbformat": 4,
 "nbformat_minor": 2
}
