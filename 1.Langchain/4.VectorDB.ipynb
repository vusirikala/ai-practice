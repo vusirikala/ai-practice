{
 "cells": [
  {
   "cell_type": "markdown",
   "metadata": {},
   "source": [
    "### FAISS\n",
    "\n",
    "Facebook AI similarity search"
   ]
  },
  {
   "cell_type": "code",
   "execution_count": 2,
   "metadata": {},
   "outputs": [
    {
     "data": {
      "text/plain": [
       "<langchain_community.vectorstores.faiss.FAISS at 0x1187dd400>"
      ]
     },
     "execution_count": 2,
     "metadata": {},
     "output_type": "execute_result"
    }
   ],
   "source": [
    "from langchain_community.document_loaders import TextLoader\n",
    "from langchain_community.vectorstores import FAISS\n",
    "from langchain_community.embeddings import OllamaEmbeddings\n",
    "from langchain_text_splitters import RecursiveCharacterTextSplitter\n",
    "\n",
    "loader = TextLoader(\"speech.txt\")\n",
    "documents = loader.load()\n",
    "text_splitter = RecursiveCharacterTextSplitter(chunk_size=100, chunk_overlap=20)\n",
    "text_splitter.split_documents(documents)\n",
    "docs = text_splitter.split_documents(documents)\n",
    "embeddings = OllamaEmbeddings(model=\"gemma:2b\")\n",
    "db = FAISS.from_documents(docs, embeddings)\n",
    "db"
   ]
  },
  {
   "cell_type": "code",
   "execution_count": 4,
   "metadata": {},
   "outputs": [
    {
     "data": {
      "text/plain": [
       "[Document(id='09a46416-c9d6-489d-864d-8c316c3782c8', metadata={'source': 'speech.txt'}, page_content='is more equitable, more sustainable, and more just?'),\n",
       " Document(id='ec085b49-e8b4-40e7-b9c8-ee87a04bfd63', metadata={'source': 'speech.txt'}, page_content='and strengthen our resolve.'),\n",
       " Document(id='5b81f9d6-d9b2-4589-bfb4-81e84266981f', metadata={'source': 'speech.txt'}, page_content='us write that story with courage, compassion, and conviction.'),\n",
       " Document(id='7983853e-c42a-4a26-9aaf-7c45e2b10f9b', metadata={'source': 'speech.txt'}, page_content='together, we can achieve extraordinary things. Thank you.')]"
      ]
     },
     "execution_count": 4,
     "metadata": {},
     "output_type": "execute_result"
    }
   ],
   "source": [
    "query = \"What is the main idea of the speech?\"\n",
    "docs = db.similarity_search(query)\n",
    "docs\n"
   ]
  },
  {
   "cell_type": "markdown",
   "metadata": {},
   "source": [
    "### As a retriever\n",
    "\n",
    "We can also convert the vectorstore into a retriever class. This allows us to easily use it in the LangChain methods, which largely work with retrievers."
   ]
  },
  {
   "cell_type": "code",
   "execution_count": 5,
   "metadata": {},
   "outputs": [
    {
     "data": {
      "text/plain": [
       "[Document(id='09a46416-c9d6-489d-864d-8c316c3782c8', metadata={'source': 'speech.txt'}, page_content='is more equitable, more sustainable, and more just?'),\n",
       " Document(id='ec085b49-e8b4-40e7-b9c8-ee87a04bfd63', metadata={'source': 'speech.txt'}, page_content='and strengthen our resolve.'),\n",
       " Document(id='5b81f9d6-d9b2-4589-bfb4-81e84266981f', metadata={'source': 'speech.txt'}, page_content='us write that story with courage, compassion, and conviction.'),\n",
       " Document(id='7983853e-c42a-4a26-9aaf-7c45e2b10f9b', metadata={'source': 'speech.txt'}, page_content='together, we can achieve extraordinary things. Thank you.')]"
      ]
     },
     "execution_count": 5,
     "metadata": {},
     "output_type": "execute_result"
    }
   ],
   "source": [
    "retriever = db.as_retriever()\n",
    "retriever.invoke(query)"
   ]
  },
  {
   "cell_type": "markdown",
   "metadata": {},
   "source": [
    "### Similarity search with score\n",
    "\n",
    "There are some FAISS specific methods. One of them is similarity_search_with_score, which allows you to return not only the documents but also the distance score of the query to them. The returned distance score is L2 distance. Therefore, a lower score is better."
   ]
  },
  {
   "cell_type": "code",
   "execution_count": 6,
   "metadata": {},
   "outputs": [
    {
     "data": {
      "text/plain": [
       "[(Document(id='09a46416-c9d6-489d-864d-8c316c3782c8', metadata={'source': 'speech.txt'}, page_content='is more equitable, more sustainable, and more just?'),\n",
       "  np.float32(2298.5415)),\n",
       " (Document(id='ec085b49-e8b4-40e7-b9c8-ee87a04bfd63', metadata={'source': 'speech.txt'}, page_content='and strengthen our resolve.'),\n",
       "  np.float32(2338.145)),\n",
       " (Document(id='5b81f9d6-d9b2-4589-bfb4-81e84266981f', metadata={'source': 'speech.txt'}, page_content='us write that story with courage, compassion, and conviction.'),\n",
       "  np.float32(2420.672)),\n",
       " (Document(id='7983853e-c42a-4a26-9aaf-7c45e2b10f9b', metadata={'source': 'speech.txt'}, page_content='together, we can achieve extraordinary things. Thank you.'),\n",
       "  np.float32(2431.5718))]"
      ]
     },
     "execution_count": 6,
     "metadata": {},
     "output_type": "execute_result"
    }
   ],
   "source": [
    "docs_and_score = db.similarity_search_with_score(query)\n",
    "docs_and_score\n",
    "\n"
   ]
  },
  {
   "cell_type": "code",
   "execution_count": 7,
   "metadata": {},
   "outputs": [
    {
     "data": {
      "text/plain": [
       "[Document(id='09a46416-c9d6-489d-864d-8c316c3782c8', metadata={'source': 'speech.txt'}, page_content='is more equitable, more sustainable, and more just?'),\n",
       " Document(id='ec085b49-e8b4-40e7-b9c8-ee87a04bfd63', metadata={'source': 'speech.txt'}, page_content='and strengthen our resolve.'),\n",
       " Document(id='5b81f9d6-d9b2-4589-bfb4-81e84266981f', metadata={'source': 'speech.txt'}, page_content='us write that story with courage, compassion, and conviction.'),\n",
       " Document(id='7983853e-c42a-4a26-9aaf-7c45e2b10f9b', metadata={'source': 'speech.txt'}, page_content='together, we can achieve extraordinary things. Thank you.')]"
      ]
     },
     "execution_count": 7,
     "metadata": {},
     "output_type": "execute_result"
    }
   ],
   "source": [
    "embedding_vector = embeddings.embed_query(query)\n",
    "docs_score = db.similarity_search_by_vector(embedding_vector)\n",
    "docs_score"
   ]
  },
  {
   "cell_type": "code",
   "execution_count": 8,
   "metadata": {},
   "outputs": [],
   "source": [
    "db.save_local(\"faiss_index\")"
   ]
  },
  {
   "cell_type": "code",
   "execution_count": 11,
   "metadata": {},
   "outputs": [],
   "source": [
    "new_db = FAISS.load_local(\"faiss_index\", embeddings, allow_dangerous_deserialization=True)"
   ]
  },
  {
   "cell_type": "code",
   "execution_count": 14,
   "metadata": {},
   "outputs": [
    {
     "data": {
      "text/plain": [
       "[Document(id='09a46416-c9d6-489d-864d-8c316c3782c8', metadata={'source': 'speech.txt'}, page_content='is more equitable, more sustainable, and more just?'),\n",
       " Document(id='ec085b49-e8b4-40e7-b9c8-ee87a04bfd63', metadata={'source': 'speech.txt'}, page_content='and strengthen our resolve.'),\n",
       " Document(id='5b81f9d6-d9b2-4589-bfb4-81e84266981f', metadata={'source': 'speech.txt'}, page_content='us write that story with courage, compassion, and conviction.'),\n",
       " Document(id='7983853e-c42a-4a26-9aaf-7c45e2b10f9b', metadata={'source': 'speech.txt'}, page_content='together, we can achieve extraordinary things. Thank you.')]"
      ]
     },
     "execution_count": 14,
     "metadata": {},
     "output_type": "execute_result"
    }
   ],
   "source": [
    "new_db.similarity_search_by_vector(embedding_vector)"
   ]
  },
  {
   "cell_type": "markdown",
   "metadata": {},
   "source": [
    "### Chroma\n",
    "\n",
    "Chroma is a AI-native open source vector database focused on developer productivity."
   ]
  },
  {
   "cell_type": "code",
   "execution_count": 17,
   "metadata": {},
   "outputs": [],
   "source": [
    "## Building a sample vectordb\n",
    "\n",
    "from langchain_chroma import Chroma\n",
    "from langchain_community.document_loaders import TextLoader\n",
    "from langchain_text_splitters import RecursiveCharacterTextSplitter\n",
    "from langchain_community.embeddings import OllamaEmbeddings\n",
    "\n",
    "loader = TextLoader(\"speech.txt\")\n",
    "documents = loader.load()\n",
    "text_splitter = RecursiveCharacterTextSplitter(chunk_size=100, chunk_overlap=20)\n",
    "text_splitter.split_documents(documents)\n",
    "docs = text_splitter.split_documents(documents)\n",
    "embeddings = OllamaEmbeddings(model=\"gemma:2b\")"
   ]
  },
  {
   "cell_type": "code",
   "execution_count": 18,
   "metadata": {},
   "outputs": [],
   "source": [
    "vectordb = Chroma.from_documents(\n",
    "    documents = docs,\n",
    "    embedding = embeddings,\n",
    ")"
   ]
  },
  {
   "cell_type": "code",
   "execution_count": 20,
   "metadata": {},
   "outputs": [
    {
     "data": {
      "text/plain": [
       "[(Document(id='f4fc077a-1800-41d0-87a6-7c0b14a4f3f3', metadata={'source': 'speech.txt'}, page_content='is more equitable, more sustainable, and more just?'),\n",
       "  2298.54150390625),\n",
       " (Document(id='50c26385-7223-4bb2-9a52-0c2a4c2660eb', metadata={'source': 'speech.txt'}, page_content='and strengthen our resolve.'),\n",
       "  2338.145263671875),\n",
       " (Document(id='230e0522-cc64-4df2-a3f5-226641d73118', metadata={'source': 'speech.txt'}, page_content='us write that story with courage, compassion, and conviction.'),\n",
       "  2420.672119140625),\n",
       " (Document(id='d8e0090e-62ea-4e1c-aa99-8f2efe96c568', metadata={'source': 'speech.txt'}, page_content='together, we can achieve extraordinary things. Thank you.'),\n",
       "  2431.57177734375)]"
      ]
     },
     "execution_count": 20,
     "metadata": {},
     "output_type": "execute_result"
    }
   ],
   "source": [
    "query = \"What is the main idea of the speech?\"\n",
    "docs = vectordb.similarity_search(query)\n",
    "docs\n",
    "\n",
    "vectordb.similarity_search_with_score(query)\n"
   ]
  },
  {
   "cell_type": "code",
   "execution_count": 21,
   "metadata": {},
   "outputs": [
    {
     "data": {
      "text/plain": [
       "[Document(id='f4fc077a-1800-41d0-87a6-7c0b14a4f3f3', metadata={'source': 'speech.txt'}, page_content='is more equitable, more sustainable, and more just?'),\n",
       " Document(id='50c26385-7223-4bb2-9a52-0c2a4c2660eb', metadata={'source': 'speech.txt'}, page_content='and strengthen our resolve.'),\n",
       " Document(id='230e0522-cc64-4df2-a3f5-226641d73118', metadata={'source': 'speech.txt'}, page_content='us write that story with courage, compassion, and conviction.'),\n",
       " Document(id='d8e0090e-62ea-4e1c-aa99-8f2efe96c568', metadata={'source': 'speech.txt'}, page_content='together, we can achieve extraordinary things. Thank you.')]"
      ]
     },
     "execution_count": 21,
     "metadata": {},
     "output_type": "execute_result"
    }
   ],
   "source": [
    "retriever = vectordb.as_retriever()\n",
    "retriever.invoke(query)"
   ]
  },
  {
   "cell_type": "code",
   "execution_count": 23,
   "metadata": {},
   "outputs": [],
   "source": [
    "vectordb = Chroma.from_documents(\n",
    "    documents = docs,\n",
    "    embedding = embeddings,\n",
    "    persist_directory = \"chroma_db2\"\n",
    ")"
   ]
  },
  {
   "cell_type": "code",
   "execution_count": null,
   "metadata": {},
   "outputs": [],
   "source": []
  }
 ],
 "metadata": {
  "kernelspec": {
   "display_name": ".venv",
   "language": "python",
   "name": "python3"
  },
  "language_info": {
   "codemirror_mode": {
    "name": "ipython",
    "version": 3
   },
   "file_extension": ".py",
   "mimetype": "text/x-python",
   "name": "python",
   "nbconvert_exporter": "python",
   "pygments_lexer": "ipython3",
   "version": "3.13.3"
  }
 },
 "nbformat": 4,
 "nbformat_minor": 2
}
